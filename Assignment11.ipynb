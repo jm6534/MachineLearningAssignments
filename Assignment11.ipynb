{
 "cells": [
  {
   "cell_type": "markdown",
   "metadata": {},
   "source": [
    "#### student ID : 20141445"
   ]
  },
  {
   "cell_type": "markdown",
   "metadata": {},
   "source": [
    "##### import librarys"
   ]
  },
  {
   "cell_type": "code",
   "execution_count": 1,
   "metadata": {},
   "outputs": [],
   "source": [
    "import matplotlib.pyplot as plt\n",
    "import numpy as np"
   ]
  },
  {
   "cell_type": "markdown",
   "metadata": {},
   "source": [
    "##### Load dataset and define constants"
   ]
  },
  {
   "cell_type": "code",
   "execution_count": 2,
   "metadata": {},
   "outputs": [],
   "source": [
    "file_data\t\t= \"mnist_train.csv\"\n",
    "handle_file\t= open(file_data, \"r\")\n",
    "data        \t\t= handle_file.readlines()\n",
    "handle_file.close()\n",
    "\n",
    "file_data_test\t\t= \"mnist_test.csv\"\n",
    "handle_file_test\t= open(file_data_test, \"r\")\n",
    "data_test        \t\t= handle_file_test.readlines()\n",
    "handle_file_test.close()\n",
    "\n",
    "size_row\t= 28    # height of the image\n",
    "size_col  \t= 28    # width of the image\n",
    "\n",
    "num_image\t= len(data)\n",
    "num_image_test = len(data_test)\n",
    "count       \t= 0     # count for the number of images\n",
    "count_test       \t= 0     # count for the number of images"
   ]
  },
  {
   "cell_type": "markdown",
   "metadata": {},
   "source": [
    "##### Define functions"
   ]
  },
  {
   "cell_type": "code",
   "execution_count": 3,
   "metadata": {},
   "outputs": [],
   "source": [
    "# return average of input images\n",
    "def average(images):\n",
    "    return normalize(np.sqrt(np.sum(np.asarray(images)**2,axis=0)))"
   ]
  },
  {
   "cell_type": "markdown",
   "metadata": {},
   "source": [
    "##### read csv file"
   ]
  },
  {
   "cell_type": "code",
   "execution_count": 4,
   "metadata": {},
   "outputs": [],
   "source": [
    "list_image  = np.empty((size_row * size_col, num_image), dtype=float)\n",
    "list_label  = np.empty(num_image, dtype=int)\n",
    "\n",
    "for line in data:\n",
    "    line_data   = line.split(',')\n",
    "    label       = line_data[0]\n",
    "    im_vector   = np.asfarray(line_data[1:])\n",
    "    list_label[count]       = label\n",
    "    list_image[:, count]    = im_vector    \n",
    "    count += 1\n",
    "    \n",
    "list_image_test  = np.empty((size_row * size_col, num_image_test), dtype=float)\n",
    "list_label_test  = np.empty(num_image_test, dtype=int)\n",
    "\n",
    "for line in data_test:\n",
    "    line_data   = line.split(',')\n",
    "    label       = line_data[0]\n",
    "    im_vector   = np.asfarray(line_data[1:])\n",
    "    list_label_test[count_test]       = label\n",
    "    list_image_test[:, count_test]    = im_vector    \n",
    "    count_test += 1"
   ]
  },
  {
   "cell_type": "markdown",
   "metadata": {},
   "source": [
    "##### train data whitening"
   ]
  },
  {
   "cell_type": "code",
   "execution_count": 5,
   "metadata": {},
   "outputs": [],
   "source": [
    "image_mean = np.mean(list_image, axis=1)\n",
    "image_std = np.std(list_image, axis=1)\n",
    "image_std[image_std == 0] = 1\n",
    "\n",
    "list_image = (np.transpose(list_image) - image_mean)\n",
    "list_image = np.transpose(list_image/image_std)"
   ]
  },
  {
   "cell_type": "markdown",
   "metadata": {},
   "source": [
    "##### test data whitening"
   ]
  },
  {
   "cell_type": "code",
   "execution_count": 6,
   "metadata": {},
   "outputs": [],
   "source": [
    "image_mean_test = np.mean(list_image_test, axis=1)\n",
    "image_std_test = np.std(list_image_test, axis=1)\n",
    "image_std_test[image_std_test == 0] = 1\n",
    "\n",
    "list_image_test = (np.transpose(list_image_test) - image_mean_test)\n",
    "list_image_test = np.transpose(list_image_test/image_std_test)"
   ]
  },
  {
   "cell_type": "markdown",
   "metadata": {},
   "source": [
    "1. Compute an optimal model parameter using the training dataset for each classifier $f_d(x, w)$\n",
    "\n",
    "$$ f_d(x; w) = w_0 * 1 + w_1 * g_1 + w_2 * g_2 + ... + w_k * g_k $$\n",
    "\n",
    "where $w = (w_0, w_1, ... , w_k)$ and the basis function $g_k$ is defined by the inner product of random vector $r_k$ and input vector $x$. "
   ]
  },
  {
   "cell_type": "code",
   "execution_count": 7,
   "metadata": {},
   "outputs": [],
   "source": [
    "MEAN = 0\n",
    "STD = 1\n",
    "M = size_row * size_col\n",
    "K = 1024\n",
    "\n",
    "def make_random_matrix():\n",
    "    randoms = np.random.normal(MEAN, STD, K * M)\n",
    "    return np.reshape(randoms, (K, M))\n",
    "\n",
    "random_matrix = make_random_matrix()\n",
    "def multiply_random_A(matrix_A):\n",
    "    matrix_A = np.matmul(random_matrix, matrix_A)\n",
    "    matrix_A = np.transpose(matrix_A)\n",
    "    matrix_A = np.insert(matrix_A,0,1,axis=1) # insert 1 on first of every row\n",
    "    matrix_A = np.where(matrix_A < 0, 0, matrix_A) # make megative value to zero\n",
    "    return matrix_A\n",
    "\n",
    "matrix_A = multiply_random_A(list_image)\n",
    "\n",
    "coefficients = list()\n",
    "for label_number in range(10):\n",
    "    matrix_b = np.array(list(map(lambda y: -1 if y != label_number else 1 ,list_label)))\n",
    "    coefficients.append(np.matmul(np.linalg.pinv(matrix_A), matrix_b))"
   ]
  },
  {
   "cell_type": "markdown",
   "metadata": {},
   "source": [
    "2. Compute (1) true positive rate, (2) error rate using (1) training dataset and (2) testing dataset."
   ]
  },
  {
   "cell_type": "code",
   "execution_count": 8,
   "metadata": {},
   "outputs": [
    {
     "name": "stdout",
     "output_type": "stream",
     "text": [
      "#1 train set\n",
      "true positive rate: 0.91728\n",
      "error rate: 0.08272\n",
      "\n",
      "#2 test set\n",
      "true positive rate: 0.912\n",
      "error rate: 0.088\n"
     ]
    }
   ],
   "source": [
    "def classify(picture, coefficients):\n",
    "    picture = np.matmul(random_matrix, picture)\n",
    "    picture = np.insert(0,1,picture)\n",
    "    picture = np.where(picture < 0, 0, picture)\n",
    "    max_sim = - 9999999\n",
    "    max_label = -1\n",
    "    for i in range(10):\n",
    "        similarity = np.matmul(picture, coefficients[i])\n",
    "        if similarity > max_sim:\n",
    "            max_sim = similarity\n",
    "            max_label = i\n",
    "    return max_label\n",
    "\n",
    "true_count = np.zeros((10))\n",
    "error_count = np.zeros((10))\n",
    "# train set\n",
    "for i in range(count):    \n",
    "    if list_label[i] == classify(list_image[:,i],coefficients):\n",
    "        true_count[list_label[i]] += 1\n",
    "    else:\n",
    "        error_count[list_label[i]] += 1\n",
    "\n",
    "true_count_test = np.zeros((10))\n",
    "error_count_test = np.zeros((10))\n",
    "# test set\n",
    "for i in range(count_test):  \n",
    "    if list_label_test[i] == classify(list_image_test[:,i],coefficients):\n",
    "        true_count_test[list_label_test[i]] += 1\n",
    "    else:\n",
    "        error_count_test[list_label_test[i]] += 1\n",
    "\n",
    "        \n",
    "t1 = np.sum(true_count)\n",
    "e1 = np.sum(error_count)\n",
    "t2 = np.sum(true_count_test)\n",
    "e2 = np.sum(error_count_test)\n",
    "# print result\n",
    "print(\"#1 train set\")\n",
    "print(\"true positive rate: \" + str(round(t1/(t1+e1),5)))\n",
    "print(\"error rate: \" + str(round(e1/(t1+e1),5)))\n",
    "print(\"\\n#2 test set\")\n",
    "print(\"true positive rate: \" + str(round(t2/(t2+e2),5)))\n",
    "print(\"error rate: \" + str(round(e2/(t2+e2),5)))"
   ]
  }
 ],
 "metadata": {
  "kernelspec": {
   "display_name": "Python 3",
   "language": "python",
   "name": "python3"
  },
  "language_info": {
   "codemirror_mode": {
    "name": "ipython",
    "version": 3
   },
   "file_extension": ".py",
   "mimetype": "text/x-python",
   "name": "python",
   "nbconvert_exporter": "python",
   "pygments_lexer": "ipython3",
   "version": "3.7.1"
  }
 },
 "nbformat": 4,
 "nbformat_minor": 2
}
