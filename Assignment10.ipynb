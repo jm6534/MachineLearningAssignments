{
 "cells": [
  {
   "cell_type": "markdown",
   "metadata": {},
   "source": [
    "#### student ID : 20141445"
   ]
  },
  {
   "cell_type": "markdown",
   "metadata": {},
   "source": [
    "##### import librarys"
   ]
  },
  {
   "cell_type": "code",
   "execution_count": 1,
   "metadata": {},
   "outputs": [],
   "source": [
    "import matplotlib.pyplot as plt\n",
    "import numpy as np"
   ]
  },
  {
   "cell_type": "markdown",
   "metadata": {},
   "source": [
    "##### Load dataset and define constants"
   ]
  },
  {
   "cell_type": "code",
   "execution_count": 2,
   "metadata": {},
   "outputs": [],
   "source": [
    "file_data\t\t= \"mnist_train.csv\"\n",
    "handle_file\t= open(file_data, \"r\")\n",
    "data        \t\t= handle_file.readlines()\n",
    "handle_file.close()\n",
    "\n",
    "file_data_test\t\t= \"mnist_test.csv\"\n",
    "handle_file_test\t= open(file_data_test, \"r\")\n",
    "data_test        \t\t= handle_file_test.readlines()\n",
    "handle_file_test.close()\n",
    "\n",
    "size_row\t= 28    # height of the image\n",
    "size_col  \t= 28    # width of the image\n",
    "\n",
    "num_image\t= len(data)\n",
    "num_image_test = len(data_test)\n",
    "count       \t= 0     # count for the number of images\n",
    "count_test       \t= 0     # count for the number of images"
   ]
  },
  {
   "cell_type": "markdown",
   "metadata": {},
   "source": [
    "##### Define functions"
   ]
  },
  {
   "cell_type": "code",
   "execution_count": 3,
   "metadata": {},
   "outputs": [],
   "source": [
    "# return average of input images\n",
    "def average(images):\n",
    "    return normalize(np.sqrt(np.sum(np.asarray(images)**2,axis=0)))"
   ]
  },
  {
   "cell_type": "markdown",
   "metadata": {},
   "source": [
    "##### read csv file"
   ]
  },
  {
   "cell_type": "code",
   "execution_count": 4,
   "metadata": {},
   "outputs": [],
   "source": [
    "list_image  = np.empty((size_row * size_col, num_image), dtype=float)\n",
    "list_label  = np.empty(num_image, dtype=int)\n",
    "\n",
    "for line in data:\n",
    "    line_data   = line.split(',')\n",
    "    label       = line_data[0]\n",
    "    im_vector   = np.asfarray(line_data[1:])\n",
    "    list_label[count]       = label\n",
    "    list_image[:, count]    = im_vector    \n",
    "    count += 1\n",
    "list_image = np.insert(list_image, 0, np.ones(count, dtype=int), axis=0)\n",
    "    \n",
    "list_image_test  = np.empty((size_row * size_col, num_image_test), dtype=float)\n",
    "list_label_test  = np.empty(num_image_test, dtype=int)\n",
    "\n",
    "for line in data_test:\n",
    "    line_data   = line.split(',')\n",
    "    label       = line_data[0]\n",
    "    im_vector   = np.asfarray(line_data[1:])\n",
    "    list_label_test[count_test]       = label\n",
    "    list_image_test[:, count_test]    = im_vector    \n",
    "    count_test += 1\n",
    "list_image_test = np.insert(list_image_test, 0, np.ones(count_test, dtype=int), axis=0)"
   ]
  },
  {
   "cell_type": "markdown",
   "metadata": {},
   "source": [
    "1. Compute an optimal model parameter using the training dataset for each classifier $f_d(x, w)$"
   ]
  },
  {
   "cell_type": "code",
   "execution_count": 5,
   "metadata": {},
   "outputs": [],
   "source": [
    "coefficients = list()\n",
    "\n",
    "for label_number in range(10):\n",
    "    matrix_A = np.transpose(list_image)\n",
    "    matrix_b = np.array(list(map(lambda y: -1 if y != label_number else 1 ,list_label)))\n",
    "\n",
    "    coefficients.append(np.matmul(np.linalg.pinv(matrix_A), matrix_b))"
   ]
  },
  {
   "cell_type": "markdown",
   "metadata": {},
   "source": [
    "2. Compute (1) true positive rate, (2) error rate using (1) training dataset and (2) testing dataset."
   ]
  },
  {
   "cell_type": "code",
   "execution_count": 6,
   "metadata": {},
   "outputs": [
    {
     "name": "stdout",
     "output_type": "stream",
     "text": [
      "#1 train set\n",
      "true positive rate: 0.85773\n",
      "error rate: 0.14227\n",
      "\n",
      "#2 test set\n",
      "true positive rate: 0.8603\n",
      "error rate: 0.1397\n"
     ]
    }
   ],
   "source": [
    "def classify(picture, coefficients):\n",
    "    max = - 999\n",
    "    max_label = -1\n",
    "    for i in range(10):\n",
    "        similarity = np.matmul(picture, coefficients[i])\n",
    "        if similarity > max:\n",
    "            max = similarity\n",
    "            max_label = i\n",
    "    return max_label\n",
    "\n",
    "true_count = 0\n",
    "error_count = 0\n",
    "# train set\n",
    "for i in range(count):    \n",
    "    if list_label[i] == classify(list_image[:,i],coefficients):\n",
    "        true_count += 1\n",
    "    else:\n",
    "        error_count += 1\n",
    "\n",
    "true_count_test = 0\n",
    "error_count_test = 0\n",
    "# test set\n",
    "for i in range(count_test):  \n",
    "    if list_label_test[i] == classify(list_image_test[:,i],coefficients):\n",
    "        true_count_test += 1\n",
    "    else:\n",
    "        error_count_test += 1\n",
    "\n",
    "# print result\n",
    "print(\"#1 train set\")\n",
    "print(\"true positive rate: \" + str(round(true_count/(true_count+error_count),5)))\n",
    "print(\"error rate: \" + str(round(error_count/(true_count+error_count),5)))\n",
    "print(\"\\n#2 test set\")\n",
    "print(\"true positive rate: \" + str(round(true_count_test/(true_count_test+error_count_test),5)))\n",
    "print(\"error rate: \" + str(round(error_count_test/(true_count_test+error_count_test),5)))"
   ]
  }
 ],
 "metadata": {
  "kernelspec": {
   "display_name": "Python 3",
   "language": "python",
   "name": "python3"
  },
  "language_info": {
   "codemirror_mode": {
    "name": "ipython",
    "version": 3
   },
   "file_extension": ".py",
   "mimetype": "text/x-python",
   "name": "python",
   "nbconvert_exporter": "python",
   "pygments_lexer": "ipython3",
   "version": "3.7.1"
  }
 },
 "nbformat": 4,
 "nbformat_minor": 2
}
