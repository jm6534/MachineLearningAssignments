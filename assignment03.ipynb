{
 "cells": [
  {
   "cell_type": "markdown",
   "metadata": {},
   "source": [
    "#### student ID : 20141445"
   ]
  },
  {
   "cell_type": "markdown",
   "metadata": {},
   "source": [
    "##### import librarys"
   ]
  },
  {
   "cell_type": "code",
   "execution_count": 1,
   "metadata": {},
   "outputs": [],
   "source": [
    "import matplotlib.pyplot as plt\n",
    "import numpy as np"
   ]
  },
  {
   "cell_type": "markdown",
   "metadata": {},
   "source": [
    "##### Load dataset and define constants"
   ]
  },
  {
   "cell_type": "code",
   "execution_count": 2,
   "metadata": {},
   "outputs": [],
   "source": [
    "file_data\t\t= \"mnist_train.csv\"\n",
    "handle_file\t= open(file_data, \"r\")\n",
    "data        \t\t= handle_file.readlines()\n",
    "handle_file.close()\n",
    "\n",
    "size_row\t= 28    # height of the image\n",
    "size_col  \t= 28    # width of the image\n",
    "\n",
    "num_image\t= len(data)\n",
    "count       \t= 0     # count for the number of images"
   ]
  },
  {
   "cell_type": "markdown",
   "metadata": {},
   "source": [
    "##### Define functions <br>\n",
    "normalize : $$ D' = {D - D_{min} \\over D_{max} - D_{min} } $$ <br>\n",
    "average (based L2 norm) : $$ result = normalize(\\sqrt{\\sum_{i=1}^{n} image_i^2}) $$"
   ]
  },
  {
   "cell_type": "code",
   "execution_count": 3,
   "metadata": {},
   "outputs": [],
   "source": [
    "# normalize the values of the input data to be [0, 1]\n",
    "def normalize(data):\n",
    "    return (data - min(data))/(max(data)-min(data))\n",
    "\n",
    "# return average of input images\n",
    "def average(images):\n",
    "    return normalize(np.sqrt(np.sum(np.asarray(images)**2,axis=0)))"
   ]
  },
  {
   "cell_type": "markdown",
   "metadata": {},
   "source": [
    "##### Compute the average images for each label (digit) based on L2-norm."
   ]
  },
  {
   "cell_type": "code",
   "execution_count": 4,
   "metadata": {},
   "outputs": [],
   "source": [
    "# make a matrix each column of which represents an images in a vector form \n",
    "list_image  = np.empty((size_row * size_col, num_image), dtype=float)\n",
    "list_label  = np.empty(num_image, dtype=int)\n",
    "\n",
    "for line in data:\n",
    "    line_data   = line.split(',')\n",
    "    label       = line_data[0]\n",
    "    im_vector   = np.asfarray(line_data[1:])\n",
    "    im_vector   = normalize(im_vector)\n",
    "    list_label[count]       = label\n",
    "    list_image[:, count]    = im_vector    \n",
    "    count += 1\n",
    "    \n",
    "result_images = []\n",
    "for i in range(10):\n",
    "    target_images = []\n",
    "    for idx in range(count):\n",
    "         if list_label[idx] == i:\n",
    "                target_images.append(list_image[:, idx])\n",
    "    result_images.append(average(target_images))"
   ]
  },
  {
   "cell_type": "markdown",
   "metadata": {},
   "source": [
    "##### Visualize the average images."
   ]
  },
  {
   "cell_type": "code",
   "execution_count": 5,
   "metadata": {},
   "outputs": [
    {
     "data": {
      "image/png": "[encoded data removed]",
      "text/plain": [
       "<Figure size 432x288 with 10 Axes>"
      ]
     },
     "metadata": {
      "needs_background": "light"
     },
     "output_type": "display_data"
    }
   ],
   "source": [
    "for i in range(10):\n",
    "    im_matrix   = result_images[i].reshape((size_row, size_col))\n",
    "\n",
    "    plt.subplot(2, 5, i+1)\n",
    "    plt.title(i)\n",
    "    plt.imshow(im_matrix, cmap='Greys', interpolation='None')\n",
    "\n",
    "    frame   = plt.gca()\n",
    "    frame.axes.get_xaxis().set_visible(False)\n",
    "    frame.axes.get_yaxis().set_visible(False)\n",
    "\n",
    "plt.show()"
   ]
  }
 ],
 "metadata": {
  "kernelspec": {
   "display_name": "Python 3",
   "language": "python",
   "name": "python3"
  },
  "language_info": {
   "codemirror_mode": {
    "name": "ipython",
    "version": 3
   },
   "file_extension": ".py",
   "mimetype": "text/x-python",
   "name": "python",
   "nbconvert_exporter": "python",
   "pygments_lexer": "ipython3",
   "version": "3.7.1"
  }
 },
 "nbformat": 4,
 "nbformat_minor": 2
}
