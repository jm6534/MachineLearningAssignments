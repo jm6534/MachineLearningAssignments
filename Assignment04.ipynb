{
 "cells": [
  {
   "cell_type": "markdown",
   "metadata": {},
   "source": [
    "#### student ID : 20141445"
   ]
  },
  {
   "cell_type": "markdown",
   "metadata": {},
   "source": [
    "##### import librarys"
   ]
  },
  {
   "cell_type": "code",
   "execution_count": 1,
   "metadata": {},
   "outputs": [],
   "source": [
    "import matplotlib.pyplot as plt\n",
    "import numpy as np\n",
    "import random\n",
    "import sys\n",
    "import collections"
   ]
  },
  {
   "cell_type": "markdown",
   "metadata": {},
   "source": [
    "##### Load dataset and define constants"
   ]
  },
  {
   "cell_type": "code",
   "execution_count": 2,
   "metadata": {},
   "outputs": [],
   "source": [
    "file_data\t\t= \"mnist_train3.csv\"\n",
    "handle_file\t= open(file_data, \"r\")\n",
    "data        \t\t= handle_file.readlines()\n",
    "handle_file.close()\n",
    "\n",
    "file_data_test\t\t= \"mnist_test.csv\"\n",
    "handle_file_test\t= open(file_data_test, \"r\")\n",
    "data_test        \t\t= handle_file_test.readlines()\n",
    "handle_file_test.close()\n",
    "\n",
    "size_row\t= 28    # height of the image\n",
    "size_col  \t= 28    # width of the image\n",
    "\n",
    "num_image\t= len(data)\n",
    "count       \t= 0     # count for the number of images\n",
    "\n",
    "Ks = [5,10,15,20] # K for K-mean"
   ]
  },
  {
   "cell_type": "markdown",
   "metadata": {},
   "source": [
    "##### Define functions <br>\n",
    "normalize : $$ D' = {D - D_{min} \\over D_{max} - D_{min} } $$ <br>\n",
    "average (based L2 norm) : $$ result = normalize(\\sqrt{\\sum_{i=1}^{n} image_i^2}) $$"
   ]
  },
  {
   "cell_type": "code",
   "execution_count": 3,
   "metadata": {},
   "outputs": [],
   "source": [
    "# normalize the values of the input data to be [0, 1]\n",
    "def normalize(data):\n",
    "    return (data - min(data))/(max(data)-min(data))\n",
    "\n",
    "# return average of input images\n",
    "def average(images):\n",
    "    if len(images) == 0:\n",
    "        return np.zeros((size_row * size_col), dtype=float)\n",
    "    return normalize(np.sqrt(np.sum(np.asarray(images)**2,axis=0)))\n",
    "\n",
    "# return distance of two images\n",
    "def distance(one, other):\n",
    "    return np.sqrt(np.sum((one - other)**2,axis=0))\n",
    "\n",
    "# return energy\n",
    "def energy(average_images, labeled_images):\n",
    "    result = 0\n",
    "    for k in range(len(labeled_images)):\n",
    "        for t in range(len(labeled_images[k])):\n",
    "            result += distance(average_images[k], labeled_images[k][t])\n",
    "    return result\n",
    "\n",
    "# return accuracy\n",
    "def accuracy(matched_clusters, original_labels, cluster_number):\n",
    "    members_in_clusters = []\n",
    "    result = 0\n",
    "    for i in range(cluster_number):\n",
    "        members_in_clusters.append(list())\n",
    "    for i in range(len(matched_clusters)):\n",
    "        members_in_clusters[matched_clusters[i]].append(original_labels[i])\n",
    "    for i in range(cluster_number):\n",
    "        counter = collections.Counter(members_in_clusters[k])\n",
    "        if len(counter.values()) > 0:\n",
    "            major_freq = max(counter.values())\n",
    "        else:\n",
    "            major_freq = 0\n",
    "        result += major_freq\n",
    "    return float(result) / len(matched_clusters)"
   ]
  },
  {
   "cell_type": "markdown",
   "metadata": {},
   "source": [
    "##### Random Number Labeling"
   ]
  },
  {
   "cell_type": "code",
   "execution_count": 4,
   "metadata": {},
   "outputs": [],
   "source": [
    "def k_mean_clustering(k):\n",
    "    # make a matrix each column of which represents an images in a vector form \n",
    "    list_images  = np.empty((size_row * size_col, num_image), dtype=float)\n",
    "    list_label  = np.empty(num_image, dtype=int)\n",
    "\n",
    "    count = 0\n",
    "    cluster_number = Ks[3]\n",
    "    original_labels = []\n",
    "\n",
    "    for line in data:\n",
    "        line_data = line.split(',')\n",
    "        original_labels.append(int(line_data[0]))\n",
    "        label = random.choice(range(cluster_number))\n",
    "        im_vector   = np.asfarray(line_data[1:])\n",
    "        im_vector   = normalize(im_vector)\n",
    "        list_label[count]       = label\n",
    "        list_images[:, count]    = im_vector    \n",
    "        count += 1\n",
    "\n",
    "    labeled_images = []\n",
    "    for i in range(cluster_number):\n",
    "        labeled_images.append(list())\n",
    "\n",
    "    for idx in range(count):\n",
    "        (labeled_images[list_label[idx]]).append(list_images[:, idx])\n",
    "\n",
    "    average_images = []\n",
    "    energies = []\n",
    "    accuracies = []\n",
    "\n",
    "    for k in range(cluster_number): # calculate average image for each cluster\n",
    "        average_images.append(average(labeled_images[k]))"
   ]
  },
  {
   "cell_type": "markdown",
   "metadata": {},
   "source": [
    "##### K-mean clustering iteration"
   ]
  },
  {
   "cell_type": "code",
   "execution_count": 5,
   "metadata": {},
   "outputs": [
    {
     "name": "stdout",
     "output_type": "stream",
     "text": [
      "iteration#1\n"
     ]
    },
    {
     "ename": "NameError",
     "evalue": "name 'cluster_number' is not defined",
     "output_type": "error",
     "traceback": [
      "\u001b[1;31m---------------------------------------------------------------------------\u001b[0m",
      "\u001b[1;31mNameError\u001b[0m                                 Traceback (most recent call last)",
      "\u001b[1;32m<ipython-input-5-04e72923fb27>\u001b[0m in \u001b[0;36m<module>\u001b[1;34m\u001b[0m\n\u001b[0;32m      6\u001b[0m     \u001b[0mprint\u001b[0m\u001b[1;33m(\u001b[0m\u001b[1;34m\"iteration#\"\u001b[0m \u001b[1;33m+\u001b[0m \u001b[0mstr\u001b[0m\u001b[1;33m(\u001b[0m\u001b[0miteration_num\u001b[0m\u001b[1;33m)\u001b[0m\u001b[1;33m)\u001b[0m\u001b[1;33m\u001b[0m\u001b[1;33m\u001b[0m\u001b[0m\n\u001b[0;32m      7\u001b[0m     \u001b[0mlabeled_images\u001b[0m \u001b[1;33m=\u001b[0m \u001b[1;33m[\u001b[0m\u001b[1;33m]\u001b[0m\u001b[1;33m\u001b[0m\u001b[1;33m\u001b[0m\u001b[0m\n\u001b[1;32m----> 8\u001b[1;33m     \u001b[1;32mfor\u001b[0m \u001b[0mi\u001b[0m \u001b[1;32min\u001b[0m \u001b[0mrange\u001b[0m\u001b[1;33m(\u001b[0m\u001b[0mcluster_number\u001b[0m\u001b[1;33m)\u001b[0m\u001b[1;33m:\u001b[0m\u001b[1;33m\u001b[0m\u001b[1;33m\u001b[0m\u001b[0m\n\u001b[0m\u001b[0;32m      9\u001b[0m         \u001b[0mlabeled_images\u001b[0m\u001b[1;33m.\u001b[0m\u001b[0mappend\u001b[0m\u001b[1;33m(\u001b[0m\u001b[0mlist\u001b[0m\u001b[1;33m(\u001b[0m\u001b[1;33m)\u001b[0m\u001b[1;33m)\u001b[0m\u001b[1;33m\u001b[0m\u001b[1;33m\u001b[0m\u001b[0m\n\u001b[0;32m     10\u001b[0m     \u001b[1;32mfor\u001b[0m \u001b[0mi\u001b[0m \u001b[1;32min\u001b[0m \u001b[0mrange\u001b[0m\u001b[1;33m(\u001b[0m\u001b[0mcount\u001b[0m\u001b[1;33m)\u001b[0m\u001b[1;33m:\u001b[0m \u001b[1;31m# clustering loop\u001b[0m\u001b[1;33m\u001b[0m\u001b[1;33m\u001b[0m\u001b[0m\n",
      "\u001b[1;31mNameError\u001b[0m: name 'cluster_number' is not defined"
     ]
    }
   ],
   "source": [
    "    matched_clusters = [None] * count\n",
    "    before_matched_clusters = []\n",
    "    iteration_num = 0;\n",
    "    while True: # iteration loop\n",
    "        iteration_num+=1\n",
    "        print(\"iteration#\" + str(iteration_num))\n",
    "        labeled_images = []\n",
    "        for i in range(cluster_number):\n",
    "            labeled_images.append(list())\n",
    "        for i in range(count): # clustering loop\n",
    "            min_distance = sys.maxsize\n",
    "            matched_clusters[i] = -1\n",
    "            for k in range(cluster_number): # cluster matching loop\n",
    "                distance_between_cluster = distance(average_images[k], list_images[:, i])\n",
    "                if distance_between_cluster < min_distance:\n",
    "                    min_distance = distance_between_cluster\n",
    "                    matched_clusters[i] = k\n",
    "            labeled_images[matched_clusters[i]].append(list_images[:, i])\n",
    "        for k in range(cluster_number): # calculate average image for each cluster\n",
    "            average_images[k] = average(labeled_images[k])\n",
    "        energies.append(energy(average_images, labeled_images))\n",
    "        accuracies.append(accuracy(matched_clusters, original_labels, cluster_number))\n",
    "        if before_matched_clusters == matched_clusters:\n",
    "            print(\"K-mean iteration end.\")\n",
    "            break\n",
    "        before_matched_clusters = matched_clusters.copy()"
   ]
  },
  {
   "cell_type": "markdown",
   "metadata": {},
   "source": [
    "##### Visualize K centroid images"
   ]
  },
  {
   "cell_type": "code",
   "execution_count": null,
   "metadata": {},
   "outputs": [],
   "source": [
    "    for i in range(cluster_number):\n",
    "        im_matrix   = average_images[i].reshape((size_row, size_col))\n",
    "\n",
    "        plt.subplot(1, cluster_number, i+1)\n",
    "        plt.title(i)\n",
    "        plt.imshow(im_matrix, cmap='Greys', interpolation='None')\n",
    "\n",
    "        frame   = plt.gca()\n",
    "        frame.axes.get_xaxis().set_visible(False)\n",
    "        frame.axes.get_yaxis().set_visible(False)\n",
    "\n",
    "    plt.show()"
   ]
  },
  {
   "cell_type": "markdown",
   "metadata": {},
   "source": [
    "##### Plot the training energy"
   ]
  },
  {
   "cell_type": "code",
   "execution_count": null,
   "metadata": {},
   "outputs": [],
   "source": [
    "    plt.figure()\n",
    "    plt.xlim(0,len(energies))\n",
    "    plt.plot(energies,color='black',label='energy')\n",
    "    plt.legend()\n",
    "    plt.show()\n",
    "    print(\"energies\" + str(energies))"
   ]
  },
  {
   "cell_type": "markdown",
   "metadata": {},
   "source": [
    "##### Plot the training accuracy"
   ]
  },
  {
   "cell_type": "code",
   "execution_count": null,
   "metadata": {
    "scrolled": true
   },
   "outputs": [],
   "source": [
    "    plt.figure()\n",
    "    plt.xlim(0,len(accuracies))\n",
    "    plt.plot(accuracies,color='black',label='accuracy')\n",
    "    plt.legend()\n",
    "    plt.show()\n",
    "    print(\"accuracies\" + str(accuracies))"
   ]
  },
  {
   "cell_type": "code",
   "execution_count": null,
   "metadata": {},
   "outputs": [],
   "source": [
    "for k in Ks:\n",
    "    print(\"K-mean clustering for k = \" + str(k))\n",
    "    K_mean_clustering(k)"
   ]
  }
 ],
 "metadata": {
  "kernelspec": {
   "display_name": "Python 3",
   "language": "python",
   "name": "python3"
  },
  "language_info": {
   "codemirror_mode": {
    "name": "ipython",
    "version": 3
   },
   "file_extension": ".py",
   "mimetype": "text/x-python",
   "name": "python",
   "nbconvert_exporter": "python",
   "pygments_lexer": "ipython3",
   "version": "3.7.1"
  }
 },
 "nbformat": 4,
 "nbformat_minor": 2
}
