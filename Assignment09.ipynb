{
 "cells": [
  {
   "cell_type": "markdown",
   "metadata": {},
   "source": [
    "#### student ID : 20141445"
   ]
  },
  {
   "cell_type": "markdown",
   "metadata": {},
   "source": [
    "##### import librarys"
   ]
  },
  {
   "cell_type": "code",
   "execution_count": 1,
   "metadata": {},
   "outputs": [],
   "source": [
    "import matplotlib.pyplot as plt\n",
    "import numpy as np"
   ]
  },
  {
   "cell_type": "markdown",
   "metadata": {},
   "source": [
    "##### Load dataset and define constants"
   ]
  },
  {
   "cell_type": "code",
   "execution_count": 2,
   "metadata": {},
   "outputs": [],
   "source": [
    "file_data\t\t= \"mnist_train.csv\"\n",
    "handle_file\t= open(file_data, \"r\")\n",
    "data        \t\t= handle_file.readlines()\n",
    "handle_file.close()\n",
    "\n",
    "file_data_test\t\t= \"mnist_test.csv\"\n",
    "handle_file_test\t= open(file_data_test, \"r\")\n",
    "data_test        \t\t= handle_file_test.readlines()\n",
    "handle_file_test.close()\n",
    "\n",
    "size_row\t= 28    # height of the image\n",
    "size_col  \t= 28    # width of the image\n",
    "\n",
    "num_image\t= len(data)\n",
    "num_image_test = len(data_test)\n",
    "count       \t= 0     # count for the number of images\n",
    "count_test       \t= 0     # count for the number of images"
   ]
  },
  {
   "cell_type": "markdown",
   "metadata": {},
   "source": [
    "##### Define functions"
   ]
  },
  {
   "cell_type": "code",
   "execution_count": 3,
   "metadata": {},
   "outputs": [],
   "source": [
    "# return average of input images\n",
    "def average(images):\n",
    "    return normalize(np.sqrt(np.sum(np.asarray(images)**2,axis=0)))"
   ]
  },
  {
   "cell_type": "markdown",
   "metadata": {},
   "source": [
    "##### read csv file"
   ]
  },
  {
   "cell_type": "code",
   "execution_count": 4,
   "metadata": {},
   "outputs": [],
   "source": [
    "list_image  = np.empty((size_row * size_col, num_image), dtype=float)\n",
    "list_label  = np.empty(num_image, dtype=int)\n",
    "\n",
    "for line in data:\n",
    "    line_data   = line.split(',')\n",
    "    label       = line_data[0]\n",
    "    im_vector   = np.asfarray(line_data[1:])\n",
    "    list_label[count]       = label\n",
    "    list_image[:, count]    = im_vector    \n",
    "    count += 1\n",
    "list_image = np.insert(list_image, 0, np.ones(count, dtype=int), axis=0)\n",
    "    \n",
    "list_image_test  = np.empty((size_row * size_col, num_image_test), dtype=float)\n",
    "list_label_test  = np.empty(num_image_test, dtype=int)\n",
    "\n",
    "for line in data_test:\n",
    "    line_data   = line.split(',')\n",
    "    label       = line_data[0]\n",
    "    im_vector   = np.asfarray(line_data[1:])\n",
    "    list_label_test[count_test]       = label\n",
    "    list_image_test[:, count_test]    = im_vector    \n",
    "    count_test += 1\n",
    "list_image_test = np.insert(list_image_test, 0, np.ones(count_test, dtype=int), axis=0)"
   ]
  },
  {
   "cell_type": "markdown",
   "metadata": {},
   "source": [
    "###### Make Marix A, b on $Ax=b$"
   ]
  },
  {
   "cell_type": "code",
   "execution_count": 5,
   "metadata": {},
   "outputs": [],
   "source": [
    "matrix_A = np.transpose(list_image)\n",
    "matrix_b = np.array(list(map(lambda y: -1 if y>0 else 1 ,list_label)))"
   ]
  },
  {
   "cell_type": "markdown",
   "metadata": {},
   "source": [
    "##### solve equation $Ax=b$ by psuedo inverse"
   ]
  },
  {
   "cell_type": "code",
   "execution_count": 6,
   "metadata": {},
   "outputs": [],
   "source": [
    "coefficients = np.matmul(np.linalg.pinv(matrix_A), matrix_b)"
   ]
  },
  {
   "cell_type": "markdown",
   "metadata": {},
   "source": [
    "##### test the model"
   ]
  },
  {
   "cell_type": "code",
   "execution_count": 7,
   "metadata": {},
   "outputs": [
    {
     "name": "stdout",
     "output_type": "stream",
     "text": [
      "test the model on train data\n",
      "true positive: 0.8725308120884687\n",
      "false negative: 0.1274691879115313\n",
      "false positive: 0.003310094864729922\n",
      "true negative: 0.9966899051352701\n",
      "\n",
      "\n",
      "test the model on test data\n",
      "true positive: 0.8836734693877552\n",
      "false negative: 0.11632653061224489\n",
      "false positive: 0.004767184035476719\n",
      "true negative: 0.9952328159645233\n"
     ]
    }
   ],
   "source": [
    "def classify(picture, coefficients):\n",
    "    return np.matmul(picture, coefficients) > 0\n",
    "\n",
    "# 0: tp\n",
    "# 1: fn\n",
    "# 2: fp\n",
    "# 3: tn\n",
    "def result_classify(label, result):\n",
    "    if label == 0 and result:\n",
    "        return 0\n",
    "    elif label == 0 and not result:\n",
    "        return 1\n",
    "    elif label != 0 and result:\n",
    "        return 2\n",
    "    else:\n",
    "        return 3\n",
    "    \n",
    "\n",
    "count_result = np.empty(4, dtype=int)\n",
    "for i in range(4):\n",
    "    count_result[i] = 0\n",
    "for i in range(count):\n",
    "    count_result[result_classify(list_label[i], classify(list_image[:,i], coefficients))] += 1\n",
    "\n",
    "print(\"test the model on train data\")\n",
    "print(\"true positive: \" + str(count_result[0]/(count_result[0]+count_result[1])))\n",
    "print(\"false negative: \" + str(count_result[1]/(count_result[0]+count_result[1])))\n",
    "print(\"false positive: \" + str(count_result[2]/(count_result[2]+count_result[3])))\n",
    "print(\"true negative: \" + str(count_result[3]/(count_result[2]+count_result[3])))\n",
    "\n",
    "\n",
    "\n",
    "count_result_test = np.empty(4, dtype=int)\n",
    "for i in range(4):\n",
    "    count_result_test[i] = 0\n",
    "for i in range(count_test):\n",
    "    count_result_test[result_classify(list_label_test[i], classify(list_image_test[:,i], coefficients))] += 1\n",
    "    \n",
    "print(\"\\n\\ntest the model on test data\")\n",
    "print(\"true positive: \" + str(count_result_test[0]/(count_result_test[0]+count_result_test[1])))\n",
    "print(\"false negative: \" + str(count_result_test[1]/(count_result_test[0]+count_result_test[1])))\n",
    "print(\"false positive: \" + str(count_result_test[2]/(count_result_test[2]+count_result_test[3])))\n",
    "print(\"true negative: \" + str(count_result_test[3]/(count_result_test[3]+count_result_test[2])))"
   ]
  }
 ],
 "metadata": {
  "kernelspec": {
   "display_name": "Python 3",
   "language": "python",
   "name": "python3"
  },
  "language_info": {
   "codemirror_mode": {
    "name": "ipython",
    "version": 3
   },
   "file_extension": ".py",
   "mimetype": "text/x-python",
   "name": "python",
   "nbconvert_exporter": "python",
   "pygments_lexer": "ipython3",
   "version": "3.7.1"
  }
 },
 "nbformat": 4,
 "nbformat_minor": 2
}
